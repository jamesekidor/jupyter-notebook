{
 "cells": [
  {
   "cell_type": "code",
   "execution_count": 90,
   "id": "b825f4e6-f202-45a9-b0e0-881b9f76b70e",
   "metadata": {},
   "outputs": [],
   "source": [
    "import sqlite3 as db"
   ]
  },
  {
   "cell_type": "code",
   "execution_count": 37,
   "id": "040e150c-0985-45b8-9a19-56ddafad0f02",
   "metadata": {},
   "outputs": [],
   "source": [
    "conn = sqlite3.connect('test.db')"
   ]
  },
  {
   "cell_type": "code",
   "execution_count": 39,
   "id": "c815d72e-2ee9-454b-91c9-bd164621d922",
   "metadata": {},
   "outputs": [],
   "source": [
    "C = conn.cursor()"
   ]
  },
  {
   "cell_type": "code",
   "execution_count": 45,
   "id": "1812a76a-67c2-4571-b92b-685e433d648e",
   "metadata": {},
   "outputs": [
    {
     "data": {
      "text/plain": [
       "<sqlite3.Cursor at 0x2d1297fa340>"
      ]
     },
     "execution_count": 45,
     "metadata": {},
     "output_type": "execute_result"
    }
   ],
   "source": [
    "C.execute(\"\"\"Create table emp(Fname text,Sname text,email text)\"\"\")"
   ]
  },
  {
   "cell_type": "code",
   "execution_count": 47,
   "id": "2bf9d3d8-e9c0-4172-bedd-64f1dddf950a",
   "metadata": {},
   "outputs": [],
   "source": [
    "conn.commit()"
   ]
  },
  {
   "cell_type": "code",
   "execution_count": 49,
   "id": "99e3f98a-b6c0-4d32-8ae6-b678f9d39095",
   "metadata": {},
   "outputs": [
    {
     "data": {
      "text/plain": [
       "<sqlite3.Cursor at 0x2d1297fa340>"
      ]
     },
     "execution_count": 49,
     "metadata": {},
     "output_type": "execute_result"
    }
   ],
   "source": [
    "C.execute(\"\"\"insert into emp values('Sam','will','email.com')\"\"\")\n",
    "C.execute(\"\"\"insert into emp values('Rohit','Sharma','rohit@gmail.com')\"\"\")\n",
    "C.execute(\"\"\"insert into emp values('Ali','Khan','ali@gmail.com')\"\"\")\n",
    "C.execute(\"\"\"insert into emp values('Muskan','Raees','muskan@gmail.com')\"\"\")\n",
    "C.execute(\"\"\"insert into emp values('Ewesit','Ekidor','ewesitekidor@gmail.com')\"\"\")"
   ]
  },
  {
   "cell_type": "code",
   "execution_count": 51,
   "id": "61104d50-8f5f-4a59-8cd2-e9f768973faf",
   "metadata": {},
   "outputs": [],
   "source": [
    "conn.commit()"
   ]
  },
  {
   "cell_type": "code",
   "execution_count": 63,
   "id": "ca36ec7f-1df0-4a94-8687-7ad9f5186e7e",
   "metadata": {},
   "outputs": [],
   "source": [
    "C.execute(\"SELECT * FROM emp\")\n",
    "items = C.fetchall()\n",
    "    "
   ]
  },
  {
   "cell_type": "code",
   "execution_count": 65,
   "id": "b46ad54b-cae5-4f76-a034-873acde6b1bc",
   "metadata": {},
   "outputs": [
    {
     "name": "stdout",
     "output_type": "stream",
     "text": [
      "[('Sam', 'will', 'email.com'), ('Rohit', 'Sharma', 'rohit@gmail.com'), ('Ali', 'Khan', 'ali@gmail.com'), ('Muskan', 'Raees', 'muskan@gmail.com'), ('Ewesit', 'Ekidor', 'ewesitekidor@gmail.com')]\n",
      "[('Sam', 'will', 'email.com'), ('Rohit', 'Sharma', 'rohit@gmail.com'), ('Ali', 'Khan', 'ali@gmail.com'), ('Muskan', 'Raees', 'muskan@gmail.com'), ('Ewesit', 'Ekidor', 'ewesitekidor@gmail.com')]\n",
      "[('Sam', 'will', 'email.com'), ('Rohit', 'Sharma', 'rohit@gmail.com'), ('Ali', 'Khan', 'ali@gmail.com'), ('Muskan', 'Raees', 'muskan@gmail.com'), ('Ewesit', 'Ekidor', 'ewesitekidor@gmail.com')]\n",
      "[('Sam', 'will', 'email.com'), ('Rohit', 'Sharma', 'rohit@gmail.com'), ('Ali', 'Khan', 'ali@gmail.com'), ('Muskan', 'Raees', 'muskan@gmail.com'), ('Ewesit', 'Ekidor', 'ewesitekidor@gmail.com')]\n",
      "[('Sam', 'will', 'email.com'), ('Rohit', 'Sharma', 'rohit@gmail.com'), ('Ali', 'Khan', 'ali@gmail.com'), ('Muskan', 'Raees', 'muskan@gmail.com'), ('Ewesit', 'Ekidor', 'ewesitekidor@gmail.com')]\n"
     ]
    }
   ],
   "source": [
    "for item in items:\n",
    "    print(items)"
   ]
  },
  {
   "cell_type": "code",
   "execution_count": 67,
   "id": "996eaf28-44bd-48ed-88ca-c1f85253ff01",
   "metadata": {},
   "outputs": [],
   "source": [
    "conn.commit()"
   ]
  },
  {
   "cell_type": "code",
   "execution_count": 92,
   "id": "186db4e7-250d-4174-8b3c-a474f7da4f1a",
   "metadata": {},
   "outputs": [],
   "source": [
    "# import libraries\n",
    "import pandas as pd\n",
    "import sqlite3 as db"
   ]
  },
  {
   "cell_type": "code",
   "execution_count": 94,
   "id": "17aa400a-61d8-4e62-bfc0-4fdcf09b79c8",
   "metadata": {},
   "outputs": [],
   "source": [
    "conn = db.connect('sqlite.db')"
   ]
  },
  {
   "cell_type": "code",
   "execution_count": 106,
   "id": "31aed335-0d21-4ccf-b685-a5b715254d0a",
   "metadata": {},
   "outputs": [
    {
     "data": {
      "text/plain": [
       "<sqlite3.Cursor at 0x2d1297c12c0>"
      ]
     },
     "execution_count": 106,
     "metadata": {},
     "output_type": "execute_result"
    }
   ],
   "source": [
    "conn .execute(\"CREATE TABLE employees(empid INTEGER PRIMARY KEY,Firstname VARCHAR(50),Lastname VARCHAR(50))\")"
   ]
  },
  {
   "cell_type": "code",
   "execution_count": 169,
   "id": "1cf4c626-ce90-4335-939f-4926d5097246",
   "metadata": {},
   "outputs": [
    {
     "data": {
      "text/plain": [
       "<sqlite3.Cursor at 0x2d12a519240>"
      ]
     },
     "execution_count": 169,
     "metadata": {},
     "output_type": "execute_result"
    }
   ],
   "source": [
    "conn.execute(\"SELECT name FROM sqlite_master WHERE type ='table'\")\n"
   ]
  },
  {
   "cell_type": "code",
   "execution_count": 173,
   "id": "51dffcb3-dc89-4462-9574-a2b4486d9386",
   "metadata": {},
   "outputs": [
    {
     "data": {
      "text/plain": [
       "<sqlite3.Cursor at 0x2d12a414bc0>"
      ]
     },
     "execution_count": 173,
     "metadata": {},
     "output_type": "execute_result"
    }
   ],
   "source": [
    "conn.execute(\"INSERT INTO employees values(1,'John', 'Doe')\")\n",
    "conn.execute(\"INSERT INTO employees values(2,'Jason', 'Hale')\")\n",
    "conn.execute(\"INSERT INTO employees values(3,'Sam', 'Billing')\")"
   ]
  },
  {
   "cell_type": "code",
   "execution_count": 193,
   "id": "f51f342a-a1a3-4183-ba9e-35325fca30d6",
   "metadata": {},
   "outputs": [],
   "source": [
    "New_employees = [(4,'Gustavo','achong'),\n",
    "(5,'Samy', 'Erot' ),\n",
    "(6,'Ekai', 'John' ),\n",
    "(7,'Ekamais', 'Peter' ),\n",
    "(8,'James', 'Abong' ),\n",
    "(9,'Akidor', 'Nifah' ),\n",
    "(5,'Ekidor', 'David' ),]               "
   ]
  },
  {
   "cell_type": "code",
   "execution_count": 195,
   "id": "6f1ed288-c862-4862-a56a-ccc49fc30d5c",
   "metadata": {},
   "outputs": [
    {
     "data": {
      "text/plain": [
       "<sqlite3.Cursor at 0x2d12a5e91c0>"
      ]
     },
     "execution_count": 195,
     "metadata": {},
     "output_type": "execute_result"
    }
   ],
   "source": [
    "conn.execute(\"SELECT * FROM employees\")"
   ]
  },
  {
   "cell_type": "code",
   "execution_count": 204,
   "id": "d910eaaa-5197-439d-ae78-2be323dec7c1",
   "metadata": {},
   "outputs": [],
   "source": [
    "conn.commit()"
   ]
  },
  {
   "cell_type": "code",
   "execution_count": 206,
   "id": "4b8ce7eb-c960-491f-b1be-f89d3cb456c8",
   "metadata": {},
   "outputs": [],
   "source": [
    "conn.close()"
   ]
  },
  {
   "cell_type": "code",
   "execution_count": 208,
   "id": "647f88ff-bf69-4b28-88bc-3791f3243956",
   "metadata": {},
   "outputs": [],
   "source": [
    "conn = db.connect(\"sqlite.db\")"
   ]
  },
  {
   "cell_type": "code",
   "execution_count": 210,
   "id": "b2f08391-c8a7-4f38-8266-32378be48a86",
   "metadata": {},
   "outputs": [],
   "source": [
    "df_employees = pd.read_sql_query(\"SELECT * FROM employees\",conn)"
   ]
  },
  {
   "cell_type": "code",
   "execution_count": 212,
   "id": "968a3990-82c2-44d2-b6a9-87e3bae4c025",
   "metadata": {},
   "outputs": [
    {
     "data": {
      "text/html": [
       "<div>\n",
       "<style scoped>\n",
       "    .dataframe tbody tr th:only-of-type {\n",
       "        vertical-align: middle;\n",
       "    }\n",
       "\n",
       "    .dataframe tbody tr th {\n",
       "        vertical-align: top;\n",
       "    }\n",
       "\n",
       "    .dataframe thead th {\n",
       "        text-align: right;\n",
       "    }\n",
       "</style>\n",
       "<table border=\"1\" class=\"dataframe\">\n",
       "  <thead>\n",
       "    <tr style=\"text-align: right;\">\n",
       "      <th></th>\n",
       "      <th>empid</th>\n",
       "      <th>Firstname</th>\n",
       "      <th>Lastname</th>\n",
       "    </tr>\n",
       "  </thead>\n",
       "  <tbody>\n",
       "    <tr>\n",
       "      <th>0</th>\n",
       "      <td>1</td>\n",
       "      <td>John</td>\n",
       "      <td>Doe</td>\n",
       "    </tr>\n",
       "    <tr>\n",
       "      <th>1</th>\n",
       "      <td>2</td>\n",
       "      <td>Jason</td>\n",
       "      <td>Hale</td>\n",
       "    </tr>\n",
       "    <tr>\n",
       "      <th>2</th>\n",
       "      <td>3</td>\n",
       "      <td>Sam</td>\n",
       "      <td>Billing</td>\n",
       "    </tr>\n",
       "    <tr>\n",
       "      <th>3</th>\n",
       "      <td>4</td>\n",
       "      <td>Gustavo</td>\n",
       "      <td>achong</td>\n",
       "    </tr>\n",
       "    <tr>\n",
       "      <th>4</th>\n",
       "      <td>5</td>\n",
       "      <td>Samy</td>\n",
       "      <td>Erot</td>\n",
       "    </tr>\n",
       "    <tr>\n",
       "      <th>5</th>\n",
       "      <td>6</td>\n",
       "      <td>Ekai</td>\n",
       "      <td>John</td>\n",
       "    </tr>\n",
       "    <tr>\n",
       "      <th>6</th>\n",
       "      <td>7</td>\n",
       "      <td>Ekamais</td>\n",
       "      <td>Peter</td>\n",
       "    </tr>\n",
       "    <tr>\n",
       "      <th>7</th>\n",
       "      <td>8</td>\n",
       "      <td>James</td>\n",
       "      <td>Abong</td>\n",
       "    </tr>\n",
       "    <tr>\n",
       "      <th>8</th>\n",
       "      <td>9</td>\n",
       "      <td>Akidor</td>\n",
       "      <td>Nifah</td>\n",
       "    </tr>\n",
       "  </tbody>\n",
       "</table>\n",
       "</div>"
      ],
      "text/plain": [
       "   empid Firstname Lastname\n",
       "0      1      John      Doe\n",
       "1      2     Jason     Hale\n",
       "2      3       Sam  Billing\n",
       "3      4   Gustavo   achong\n",
       "4      5      Samy     Erot\n",
       "5      6      Ekai     John\n",
       "6      7   Ekamais    Peter\n",
       "7      8     James    Abong\n",
       "8      9    Akidor    Nifah"
      ]
     },
     "execution_count": 212,
     "metadata": {},
     "output_type": "execute_result"
    }
   ],
   "source": [
    "df_employees"
   ]
  },
  {
   "cell_type": "code",
   "execution_count": 228,
   "id": "8d21faeb-3122-41de-af38-3020feaa8a83",
   "metadata": {},
   "outputs": [],
   "source": [
    "#removing an employee from the db\n",
    "df_new =df_employees[:-1]"
   ]
  },
  {
   "cell_type": "code",
   "execution_count": 220,
   "id": "c293af1f-d236-4d1b-bf3f-79acdb49f5e6",
   "metadata": {},
   "outputs": [
    {
     "data": {
      "text/html": [
       "<div>\n",
       "<style scoped>\n",
       "    .dataframe tbody tr th:only-of-type {\n",
       "        vertical-align: middle;\n",
       "    }\n",
       "\n",
       "    .dataframe tbody tr th {\n",
       "        vertical-align: top;\n",
       "    }\n",
       "\n",
       "    .dataframe thead th {\n",
       "        text-align: right;\n",
       "    }\n",
       "</style>\n",
       "<table border=\"1\" class=\"dataframe\">\n",
       "  <thead>\n",
       "    <tr style=\"text-align: right;\">\n",
       "      <th></th>\n",
       "      <th>empid</th>\n",
       "      <th>Firstname</th>\n",
       "      <th>Lastname</th>\n",
       "    </tr>\n",
       "  </thead>\n",
       "  <tbody>\n",
       "    <tr>\n",
       "      <th>0</th>\n",
       "      <td>1</td>\n",
       "      <td>John</td>\n",
       "      <td>Doe</td>\n",
       "    </tr>\n",
       "    <tr>\n",
       "      <th>1</th>\n",
       "      <td>2</td>\n",
       "      <td>Jason</td>\n",
       "      <td>Hale</td>\n",
       "    </tr>\n",
       "    <tr>\n",
       "      <th>2</th>\n",
       "      <td>3</td>\n",
       "      <td>Sam</td>\n",
       "      <td>Billing</td>\n",
       "    </tr>\n",
       "    <tr>\n",
       "      <th>3</th>\n",
       "      <td>4</td>\n",
       "      <td>Gustavo</td>\n",
       "      <td>achong</td>\n",
       "    </tr>\n",
       "    <tr>\n",
       "      <th>4</th>\n",
       "      <td>5</td>\n",
       "      <td>Samy</td>\n",
       "      <td>Erot</td>\n",
       "    </tr>\n",
       "    <tr>\n",
       "      <th>5</th>\n",
       "      <td>6</td>\n",
       "      <td>Ekai</td>\n",
       "      <td>John</td>\n",
       "    </tr>\n",
       "    <tr>\n",
       "      <th>6</th>\n",
       "      <td>7</td>\n",
       "      <td>Ekamais</td>\n",
       "      <td>Peter</td>\n",
       "    </tr>\n",
       "    <tr>\n",
       "      <th>7</th>\n",
       "      <td>8</td>\n",
       "      <td>James</td>\n",
       "      <td>Abong</td>\n",
       "    </tr>\n",
       "  </tbody>\n",
       "</table>\n",
       "</div>"
      ],
      "text/plain": [
       "   empid Firstname Lastname\n",
       "0      1      John      Doe\n",
       "1      2     Jason     Hale\n",
       "2      3       Sam  Billing\n",
       "3      4   Gustavo   achong\n",
       "4      5      Samy     Erot\n",
       "5      6      Ekai     John\n",
       "6      7   Ekamais    Peter\n",
       "7      8     James    Abong"
      ]
     },
     "execution_count": 220,
     "metadata": {},
     "output_type": "execute_result"
    }
   ],
   "source": [
    "df_new"
   ]
  },
  {
   "cell_type": "code",
   "execution_count": 230,
   "id": "01610765-be0a-4638-98bf-024dd6278cd1",
   "metadata": {},
   "outputs": [],
   "source": [
    "# removing 4 employees in the db\n",
    "df_new =df_employees[:-4]"
   ]
  },
  {
   "cell_type": "code",
   "execution_count": 232,
   "id": "cf33698f-069c-4b42-b854-ab3007ff8764",
   "metadata": {},
   "outputs": [
    {
     "data": {
      "text/html": [
       "<div>\n",
       "<style scoped>\n",
       "    .dataframe tbody tr th:only-of-type {\n",
       "        vertical-align: middle;\n",
       "    }\n",
       "\n",
       "    .dataframe tbody tr th {\n",
       "        vertical-align: top;\n",
       "    }\n",
       "\n",
       "    .dataframe thead th {\n",
       "        text-align: right;\n",
       "    }\n",
       "</style>\n",
       "<table border=\"1\" class=\"dataframe\">\n",
       "  <thead>\n",
       "    <tr style=\"text-align: right;\">\n",
       "      <th></th>\n",
       "      <th>empid</th>\n",
       "      <th>Firstname</th>\n",
       "      <th>Lastname</th>\n",
       "    </tr>\n",
       "  </thead>\n",
       "  <tbody>\n",
       "    <tr>\n",
       "      <th>0</th>\n",
       "      <td>1</td>\n",
       "      <td>John</td>\n",
       "      <td>Doe</td>\n",
       "    </tr>\n",
       "    <tr>\n",
       "      <th>1</th>\n",
       "      <td>2</td>\n",
       "      <td>Jason</td>\n",
       "      <td>Hale</td>\n",
       "    </tr>\n",
       "    <tr>\n",
       "      <th>2</th>\n",
       "      <td>3</td>\n",
       "      <td>Sam</td>\n",
       "      <td>Billing</td>\n",
       "    </tr>\n",
       "    <tr>\n",
       "      <th>3</th>\n",
       "      <td>4</td>\n",
       "      <td>Gustavo</td>\n",
       "      <td>achong</td>\n",
       "    </tr>\n",
       "    <tr>\n",
       "      <th>4</th>\n",
       "      <td>5</td>\n",
       "      <td>Samy</td>\n",
       "      <td>Erot</td>\n",
       "    </tr>\n",
       "  </tbody>\n",
       "</table>\n",
       "</div>"
      ],
      "text/plain": [
       "   empid Firstname Lastname\n",
       "0      1      John      Doe\n",
       "1      2     Jason     Hale\n",
       "2      3       Sam  Billing\n",
       "3      4   Gustavo   achong\n",
       "4      5      Samy     Erot"
      ]
     },
     "execution_count": 232,
     "metadata": {},
     "output_type": "execute_result"
    }
   ],
   "source": [
    "df_new"
   ]
  },
  {
   "cell_type": "code",
   "execution_count": 240,
   "id": "94dca88e-3ea3-44ea-9cf8-27dcf4f60728",
   "metadata": {},
   "outputs": [],
   "source": [
    "# bring a whole list of the employees\n",
    "df_new = df_employees[:]"
   ]
  },
  {
   "cell_type": "code",
   "execution_count": 242,
   "id": "0796452f-f743-48c9-99c3-1f1202b43dd9",
   "metadata": {},
   "outputs": [
    {
     "data": {
      "text/html": [
       "<div>\n",
       "<style scoped>\n",
       "    .dataframe tbody tr th:only-of-type {\n",
       "        vertical-align: middle;\n",
       "    }\n",
       "\n",
       "    .dataframe tbody tr th {\n",
       "        vertical-align: top;\n",
       "    }\n",
       "\n",
       "    .dataframe thead th {\n",
       "        text-align: right;\n",
       "    }\n",
       "</style>\n",
       "<table border=\"1\" class=\"dataframe\">\n",
       "  <thead>\n",
       "    <tr style=\"text-align: right;\">\n",
       "      <th></th>\n",
       "      <th>empid</th>\n",
       "      <th>Firstname</th>\n",
       "      <th>Lastname</th>\n",
       "    </tr>\n",
       "  </thead>\n",
       "  <tbody>\n",
       "    <tr>\n",
       "      <th>0</th>\n",
       "      <td>1</td>\n",
       "      <td>John</td>\n",
       "      <td>Doe</td>\n",
       "    </tr>\n",
       "    <tr>\n",
       "      <th>1</th>\n",
       "      <td>2</td>\n",
       "      <td>Jason</td>\n",
       "      <td>Hale</td>\n",
       "    </tr>\n",
       "    <tr>\n",
       "      <th>2</th>\n",
       "      <td>3</td>\n",
       "      <td>Sam</td>\n",
       "      <td>Billing</td>\n",
       "    </tr>\n",
       "    <tr>\n",
       "      <th>3</th>\n",
       "      <td>4</td>\n",
       "      <td>Gustavo</td>\n",
       "      <td>achong</td>\n",
       "    </tr>\n",
       "    <tr>\n",
       "      <th>4</th>\n",
       "      <td>5</td>\n",
       "      <td>Samy</td>\n",
       "      <td>Erot</td>\n",
       "    </tr>\n",
       "    <tr>\n",
       "      <th>5</th>\n",
       "      <td>6</td>\n",
       "      <td>Ekai</td>\n",
       "      <td>John</td>\n",
       "    </tr>\n",
       "    <tr>\n",
       "      <th>6</th>\n",
       "      <td>7</td>\n",
       "      <td>Ekamais</td>\n",
       "      <td>Peter</td>\n",
       "    </tr>\n",
       "    <tr>\n",
       "      <th>7</th>\n",
       "      <td>8</td>\n",
       "      <td>James</td>\n",
       "      <td>Abong</td>\n",
       "    </tr>\n",
       "    <tr>\n",
       "      <th>8</th>\n",
       "      <td>9</td>\n",
       "      <td>Akidor</td>\n",
       "      <td>Nifah</td>\n",
       "    </tr>\n",
       "  </tbody>\n",
       "</table>\n",
       "</div>"
      ],
      "text/plain": [
       "   empid Firstname Lastname\n",
       "0      1      John      Doe\n",
       "1      2     Jason     Hale\n",
       "2      3       Sam  Billing\n",
       "3      4   Gustavo   achong\n",
       "4      5      Samy     Erot\n",
       "5      6      Ekai     John\n",
       "6      7   Ekamais    Peter\n",
       "7      8     James    Abong\n",
       "8      9    Akidor    Nifah"
      ]
     },
     "execution_count": 242,
     "metadata": {},
     "output_type": "execute_result"
    }
   ],
   "source": [
    "df_new"
   ]
  },
  {
   "cell_type": "code",
   "execution_count": null,
   "id": "8dabe47c-6079-4ca7-bc9d-e8591a544c85",
   "metadata": {},
   "outputs": [],
   "source": []
  }
 ],
 "metadata": {
  "kernelspec": {
   "display_name": "Python 3 (ipykernel)",
   "language": "python",
   "name": "python3"
  },
  "language_info": {
   "codemirror_mode": {
    "name": "ipython",
    "version": 3
   },
   "file_extension": ".py",
   "mimetype": "text/x-python",
   "name": "python",
   "nbconvert_exporter": "python",
   "pygments_lexer": "ipython3",
   "version": "3.12.4"
  }
 },
 "nbformat": 4,
 "nbformat_minor": 5
}
